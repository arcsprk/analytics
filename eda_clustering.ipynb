{
 "cells": [
  {
   "cell_type": "code",
   "execution_count": null,
   "metadata": {},
   "outputs": [],
   "source": [
    "import pandas as pd\n",
    "import numpy as np\n",
    "import os\n",
    "import glob\n",
    "\n",
    "import sys\n",
    "\n",
    "%load_ext autoreload\n",
    "%autoreload 2"
   ]
  },
  {
   "cell_type": "code",
   "execution_count": null,
   "metadata": {},
   "outputs": [],
   "source": [
    "PATH_DAILY_KPI_AD_RESULT_DATA = os.path.join(\"/mnt/c\", \"Dataset/energy/processed/daily_kpi_ad_result\")\n",
    "\n",
    "df_daily_kpi_anomaly_detection = pd.read_csv(os.path.join(PATH_DAILY_KPI_AD_RESULT_DATA,'daily_kpi_ad_result.csv'))\n",
    "\n"
   ]
  },
  {
   "cell_type": "code",
   "execution_count": null,
   "metadata": {},
   "outputs": [],
   "source": [
    "df_daily_kpi_anomaly_detection"
   ]
  },
  {
   "cell_type": "code",
   "execution_count": null,
   "metadata": {},
   "outputs": [],
   "source": [
    "PATH_KPI_DATA = os.path.join(\"/mnt/c\", \"Dataset/energy/processed/kpi\")\n",
    "\n",
    "df_kpi = pd.read_parquet(os.path.join(PATH_KPI_DATA,'energy_hourly_kpi.parquet'))"
   ]
  },
  {
   "cell_type": "code",
   "execution_count": null,
   "metadata": {},
   "outputs": [],
   "source": [
    "df_kpi.head()"
   ]
  },
  {
   "cell_type": "code",
   "execution_count": null,
   "metadata": {},
   "outputs": [],
   "source": [
    "df_kpi['Date'] = df_kpi['DateTime'].dt.date.astype('str')"
   ]
  },
  {
   "cell_type": "code",
   "execution_count": null,
   "metadata": {},
   "outputs": [],
   "source": [
    "df_kpi.head()"
   ]
  },
  {
   "cell_type": "code",
   "execution_count": null,
   "metadata": {},
   "outputs": [],
   "source": [
    "df_kpi_with_daily_ad_result = df_daily_kpi_anomaly_detection.merge(df_kpi[['AreaName', 'Date', 'DateTime', 'fossil_energy_ratio']], on = ['AreaName', 'Date'], how='right')"
   ]
  },
  {
   "cell_type": "code",
   "execution_count": null,
   "metadata": {},
   "outputs": [],
   "source": []
  },
  {
   "cell_type": "code",
   "execution_count": null,
   "metadata": {},
   "outputs": [],
   "source": [
    "PATH_METRIC_DATA = os.path.join(\"/mnt/c\", \"Dataset/energy/processed/aggregated_generation\")\n",
    "\n",
    "df_metric = pd.read_parquet(os.path.join(PATH_METRIC_DATA, 'energy_hourly_generation_per_country.parquet'))"
   ]
  },
  {
   "cell_type": "code",
   "execution_count": null,
   "metadata": {},
   "outputs": [],
   "source": [
    "df_metric.head()"
   ]
  },
  {
   "cell_type": "code",
   "execution_count": null,
   "metadata": {},
   "outputs": [],
   "source": [
    "df_metric['Date'] = df_metric['DateTime'].dt.date.astype('str')"
   ]
  },
  {
   "cell_type": "code",
   "execution_count": null,
   "metadata": {},
   "outputs": [],
   "source": [
    "df_metric_with_daily_kpi_ad_result = df_daily_kpi_anomaly_detection.merge(df_metric, on = ['AreaName', 'Date'], how='right')"
   ]
  },
  {
   "cell_type": "code",
   "execution_count": null,
   "metadata": {},
   "outputs": [],
   "source": [
    "df_metric_with_daily_kpi_ad_result['Daily_Anomaly_fossil_energy_ratio'] = df_metric_with_daily_kpi_ad_result['Daily_Anomaly_fossil_energy_ratio'].fillna('Normal')"
   ]
  },
  {
   "cell_type": "code",
   "execution_count": null,
   "metadata": {},
   "outputs": [],
   "source": [
    "pd.to_datetime(df_metric_with_daily_kpi_ad_result['Date']).dt.month"
   ]
  },
  {
   "cell_type": "code",
   "execution_count": null,
   "metadata": {},
   "outputs": [],
   "source": [
    "df_metric_with_daily_kpi_ad_result = df_metric_with_daily_kpi_ad_result[pd.to_datetime(df_metric_with_daily_kpi_ad_result['Date']).dt.month == 1]"
   ]
  },
  {
   "cell_type": "code",
   "execution_count": null,
   "metadata": {},
   "outputs": [],
   "source": [
    "df_metric_with_daily_kpi_ad_result.head()"
   ]
  },
  {
   "cell_type": "code",
   "execution_count": null,
   "metadata": {},
   "outputs": [],
   "source": [
    "df_metric.columns"
   ]
  },
  {
   "cell_type": "code",
   "execution_count": null,
   "metadata": {},
   "outputs": [],
   "source": [
    "list_metric = [\n",
    "    'generation.biomass',\n",
    "    'generation.fossil.brown_coal_lignite',\n",
    "    'generation.fossil.coal_derived_gas', 'generation.fossil.gas',\n",
    "    'generation.fossil.hard_coal', 'generation.fossil.oil',\n",
    "    'generation.fossil.oil_shale', 'generation.fossil.peat',\n",
    "    'generation.geothermal', 'generation.hydro.pumped_storage',\n",
    "    'generation.hydro.run_of_river_and_poundage',\n",
    "    'generation.hydro.water_reservoir', 'generation.marine',\n",
    "    'generation.nuclear', 'generation.other', 'generation.other.renewable',\n",
    "    'generation.solar', 'generation.waste', 'generation.wind.offshore',\n",
    "    'generation.wind.onshore'\n",
    "    ]"
   ]
  },
  {
   "cell_type": "code",
   "execution_count": null,
   "metadata": {},
   "outputs": [],
   "source": [
    "df_metric_with_daily_kpi_ad_result[list_metric].fillna(0)"
   ]
  },
  {
   "cell_type": "code",
   "execution_count": null,
   "metadata": {},
   "outputs": [],
   "source": [
    "list_metric"
   ]
  },
  {
   "cell_type": "code",
   "execution_count": null,
   "metadata": {},
   "outputs": [],
   "source": [
    "list_metric_fossil = [\n",
    "    'generation.fossil.brown_coal_lignite',\n",
    "    'generation.fossil.coal_derived_gas',\n",
    "    'generation.fossil.gas',\n",
    "    'generation.fossil.hard_coal',\n",
    "    'generation.fossil.oil',\n",
    "    'generation.fossil.oil_shale',\n",
    "    'generation.fossil.peat'\n",
    "]"
   ]
  },
  {
   "cell_type": "code",
   "execution_count": null,
   "metadata": {},
   "outputs": [],
   "source": [
    "len(df_metric_with_daily_kpi_ad_result)"
   ]
  },
  {
   "cell_type": "code",
   "execution_count": null,
   "metadata": {},
   "outputs": [],
   "source": [
    "df_metric_with_daily_kpi_ad_result"
   ]
  },
  {
   "cell_type": "markdown",
   "metadata": {},
   "source": [
    "### t-SNE"
   ]
  },
  {
   "cell_type": "code",
   "execution_count": null,
   "metadata": {},
   "outputs": [],
   "source": [
    "from sklearn.manifold import TSNE\n",
    "import plotly.express as px\n",
    "\n",
    "\n",
    "features = df_metric_with_daily_kpi_ad_result[list_metric].fillna(0)\n",
    "labels = df_metric_with_daily_kpi_ad_result['AreaName'].fillna('Normal')\n",
    "\n",
    "\n",
    "tsne_2d = TSNE(n_components=2, random_state=0)\n",
    "project_tsne_2d = tsne_2d.fit_transform(features)\n",
    "\n"
   ]
  },
  {
   "cell_type": "code",
   "execution_count": null,
   "metadata": {},
   "outputs": [],
   "source": [
    "\n",
    "df_plot = df_metric_with_daily_kpi_ad_result.copy()\n",
    "# df_plot = pd.concat([df_plot, pd.DataFrame(proj_umap_2d)], axis=1)\n",
    "df_plot[0] = project_tsne_2d[:, 0]\n",
    "df_plot[1] = project_tsne_2d[:, 1]\n",
    "\n",
    "\n",
    "fig = px.scatter(\n",
    "    df_plot, x=0, y=1,\n",
    "    hover_data=['AreaName', 'Date', 'Daily_Anomaly_fossil_energy_ratio', 'DateTime']+list_metric,\n",
    "    color='AreaName',\n",
    "    labels={'color': 'AreaName'}\n",
    "    # color=labels,\n",
    "    # color='AreaName',\n",
    "    # labels={'color': 'AreaName'}\n",
    ")\n",
    "\n",
    "fig.show()\n",
    "\n",
    "\n"
   ]
  },
  {
   "cell_type": "code",
   "execution_count": null,
   "metadata": {},
   "outputs": [],
   "source": [
    "df_plot = df_metric_with_daily_kpi_ad_result.copy()\n",
    "df_plot[0] = project_tsne_2d[:, 0]\n",
    "df_plot[1] = project_tsne_2d[:, 1]\n",
    "\n",
    "fig = px.scatter(\n",
    "    df_plot, x=0, y=1,\n",
    "    hover_data=['AreaName', 'Date', 'Daily_Anomaly_fossil_energy_ratio', 'DateTime']+list_metric,\n",
    "    color='Daily_Anomaly_fossil_energy_ratio',\n",
    "    labels={'color': 'Daily_Anomaly_fossil_energy_ratio'}\n",
    ")\n",
    "\n",
    "fig.show()"
   ]
  },
  {
   "cell_type": "code",
   "execution_count": null,
   "metadata": {},
   "outputs": [],
   "source": []
  },
  {
   "cell_type": "code",
   "execution_count": null,
   "metadata": {},
   "outputs": [],
   "source": [
    "df_plot = df_metric_with_daily_kpi_ad_result.copy()\n",
    "df_plot[0] = project_tsne_2d[:, 0]\n",
    "df_plot[1] = project_tsne_2d[:, 1]\n",
    "\n",
    "fig = px.scatter(\n",
    "    df_plot, x=0, y=1,\n",
    "    hover_data=['AreaName', 'Date', 'Daily_Anomaly_fossil_energy_ratio', 'DateTime']+list_metric,\n",
    ")\n",
    "\n",
    "fig.show()"
   ]
  },
  {
   "cell_type": "code",
   "execution_count": null,
   "metadata": {},
   "outputs": [],
   "source": []
  },
  {
   "cell_type": "code",
   "execution_count": null,
   "metadata": {},
   "outputs": [],
   "source": []
  },
  {
   "cell_type": "markdown",
   "metadata": {},
   "source": [
    "## UMAP"
   ]
  },
  {
   "cell_type": "code",
   "execution_count": null,
   "metadata": {},
   "outputs": [],
   "source": [
    "df_metric_with_daily_kpi_ad_result.head()"
   ]
  },
  {
   "cell_type": "code",
   "execution_count": null,
   "metadata": {},
   "outputs": [],
   "source": [
    "len(df_metric_with_daily_kpi_ad_result)"
   ]
  },
  {
   "cell_type": "code",
   "execution_count": null,
   "metadata": {},
   "outputs": [],
   "source": [
    "df_plot.tail()"
   ]
  },
  {
   "cell_type": "code",
   "execution_count": null,
   "metadata": {},
   "outputs": [],
   "source": [
    "df_metric_with_daily_kpi_ad_result.head()"
   ]
  },
  {
   "cell_type": "code",
   "execution_count": null,
   "metadata": {},
   "outputs": [],
   "source": [
    "len(df_metric_with_daily_kpi_ad_result)"
   ]
  },
  {
   "cell_type": "code",
   "execution_count": null,
   "metadata": {},
   "outputs": [],
   "source": [
    "len(pd.DataFrame(proj_umap_2d))"
   ]
  },
  {
   "cell_type": "code",
   "execution_count": null,
   "metadata": {},
   "outputs": [],
   "source": [
    "proj_umap_2d[:, 0]"
   ]
  },
  {
   "cell_type": "code",
   "execution_count": null,
   "metadata": {},
   "outputs": [],
   "source": [
    "from umap import UMAP\n",
    "import plotly.express as px\n",
    "\n",
    "features = df_metric_with_daily_kpi_ad_result[list_metric].fillna(0)\n",
    "labels = df_metric_with_daily_kpi_ad_result['AreaName'].fillna('Normal')\n",
    "# hover_data=df_metric_with_daily_kpi_ad_result[['AreaName', 'DateTime']]\n",
    "\n",
    "umap_2d = UMAP(n_components=2,\n",
    "                # init='random', \n",
    "                random_state=0)\n",
    "\n",
    "proj_umap_2d = umap_2d.fit_transform(features)\n"
   ]
  },
  {
   "cell_type": "code",
   "execution_count": null,
   "metadata": {},
   "outputs": [],
   "source": [
    "df_plot = df_metric_with_daily_kpi_ad_result.copy()\n",
    "df_plot[0] = proj_umap_2d[:, 0]\n",
    "df_plot[1] = proj_umap_2d[:, 1]\n",
    "\n",
    "fig = px.scatter(\n",
    "    df_plot, x=0, y=1,\n",
    "    hover_data=['AreaName', 'Date', 'Daily_Anomaly_fossil_energy_ratio', 'DateTime']+list_metric,\n",
    "    color='AreaName',\n",
    "    labels={'color': 'AreaName'}\n",
    "\n",
    ")\n",
    "\n",
    "fig.show()"
   ]
  },
  {
   "cell_type": "code",
   "execution_count": null,
   "metadata": {},
   "outputs": [],
   "source": [
    "df_plot = df_metric_with_daily_kpi_ad_result.copy()\n",
    "df_plot[0] = proj_umap_2d[:, 0]\n",
    "df_plot[1] = proj_umap_2d[:, 1]\n",
    "\n",
    "fig = px.scatter(\n",
    "    df_plot, x=0, y=1,\n",
    "    hover_data=['AreaName', 'Date', 'Daily_Anomaly_fossil_energy_ratio', 'DateTime']+list_metric,\n",
    "    color='Daily_Anomaly_fossil_energy_ratio',\n",
    "    labels={'color': 'Daily_Anomaly_fossil_energy_ratio'}\n",
    "\n",
    ")\n",
    "\n",
    "fig.show()"
   ]
  },
  {
   "cell_type": "code",
   "execution_count": null,
   "metadata": {},
   "outputs": [],
   "source": [
    "df_plot = df_metric_with_daily_kpi_ad_result.copy()\n",
    "df_plot[0] = proj_umap_2d[:, 0]\n",
    "df_plot[1] = proj_umap_2d[:, 1]\n",
    "\n",
    "fig = px.scatter(\n",
    "    df_plot, x=0, y=1,\n",
    "    hover_data=['AreaName', 'Date', 'Daily_Anomaly_fossil_energy_ratio', 'DateTime']+list_metric\n",
    ")\n",
    "\n",
    "fig.show()"
   ]
  },
  {
   "cell_type": "code",
   "execution_count": null,
   "metadata": {},
   "outputs": [],
   "source": []
  },
  {
   "cell_type": "code",
   "execution_count": null,
   "metadata": {},
   "outputs": [],
   "source": []
  },
  {
   "cell_type": "code",
   "execution_count": null,
   "metadata": {},
   "outputs": [],
   "source": [
    "from umap import UMAP\n",
    "import plotly.express as px\n",
    "\n",
    "features = df_metric_with_daily_kpi_ad_result[list_metric].fillna(0)\n",
    "labels = df_metric_with_daily_kpi_ad_result['AreaName'].fillna('Normal')\n",
    "# hover_data=df_metric_with_daily_kpi_ad_result[['AreaName', 'DateTime']]\n",
    "\n",
    "umap_2d = UMAP(n_components=2,\n",
    "                # init='random', \n",
    "                random_state=0)\n",
    "\n",
    "# proj_umap_2d = umap_2d.fit_transform(features)\n",
    "umap_2d.fit(features)\n",
    "proj_umap_2d = umap_2d.transform(features)"
   ]
  },
  {
   "cell_type": "code",
   "execution_count": null,
   "metadata": {},
   "outputs": [],
   "source": [
    "df_plot = df_metric_with_daily_kpi_ad_result.copy()\n",
    "df_plot[0] = proj_umap_2d[:, 0]\n",
    "df_plot[1] = proj_umap_2d[:, 1]\n",
    "\n",
    "fig = px.scatter(\n",
    "    df_plot, x=0, y=1,\n",
    "    hover_data=['AreaName', 'Date', 'Daily_Anomaly_fossil_energy_ratio', 'DateTime']+list_metric,\n",
    "    color='AreaName',\n",
    "    labels={'color': 'AreaName'}\n",
    "\n",
    ")\n",
    "\n",
    "fig.show()"
   ]
  },
  {
   "cell_type": "markdown",
   "metadata": {},
   "source": [
    "### densMAP"
   ]
  },
  {
   "cell_type": "code",
   "execution_count": null,
   "metadata": {},
   "outputs": [],
   "source": []
  },
  {
   "cell_type": "code",
   "execution_count": null,
   "metadata": {},
   "outputs": [],
   "source": [
    "from umap import UMAP\n",
    "import plotly.express as px\n",
    "\n",
    "features = df_metric_with_daily_kpi_ad_result[list_metric].fillna(0)\n",
    "labels = df_metric_with_daily_kpi_ad_result['AreaName'].fillna('Normal')\n",
    "# hover_data=df_metric_with_daily_kpi_ad_result[['AreaName', 'DateTime']]\n",
    "\n",
    "umap_2d = UMAP(n_components=2,\n",
    "                densmap=True,\n",
    "                # init='random', \n",
    "                random_state=0)\n",
    "\n",
    "# proj_umap_2d = umap_2d.fit_transform(features)\n",
    "umap_2d.fit(features)\n",
    "proj_umap_2d = umap_2d.transform(features)"
   ]
  },
  {
   "cell_type": "code",
   "execution_count": null,
   "metadata": {},
   "outputs": [],
   "source": [
    "df_plot = df_metric_with_daily_kpi_ad_result.copy()\n",
    "df_plot[0] = proj_umap_2d[:, 0]\n",
    "df_plot[1] = proj_umap_2d[:, 1]\n",
    "\n",
    "fig = px.scatter(\n",
    "    df_plot, x=0, y=1,\n",
    "    hover_data=['AreaName', 'Date', 'Daily_Anomaly_fossil_energy_ratio', 'DateTime']+list_metric,\n",
    "    color='AreaName',\n",
    "    labels={'color': 'AreaName'}\n",
    "\n",
    ")\n",
    "\n",
    "fig.show()"
   ]
  },
  {
   "cell_type": "code",
   "execution_count": null,
   "metadata": {},
   "outputs": [],
   "source": [
    "df_plot = df_metric_with_daily_kpi_ad_result.copy()\n",
    "df_plot[0] = proj_umap_2d[:, 0]\n",
    "df_plot[1] = proj_umap_2d[:, 1]\n",
    "\n",
    "fig = px.scatter(\n",
    "    df_plot, x=0, y=1,\n",
    "    hover_data=['AreaName', 'Date', 'Daily_Anomaly_fossil_energy_ratio', 'DateTime']+list_metric,\n",
    "    color='Daily_Anomaly_fossil_energy_ratio',\n",
    "    labels={'color': 'Daily_Anomaly_fossil_energy_ratio'}\n",
    "\n",
    ")\n",
    "\n",
    "fig.show()\n"
   ]
  },
  {
   "cell_type": "code",
   "execution_count": null,
   "metadata": {},
   "outputs": [],
   "source": []
  }
 ],
 "metadata": {
  "kernelspec": {
   "display_name": "env_analytics",
   "language": "python",
   "name": "python3"
  },
  "language_info": {
   "codemirror_mode": {
    "name": "ipython",
    "version": 3
   },
   "file_extension": ".py",
   "mimetype": "text/x-python",
   "name": "python",
   "nbconvert_exporter": "python",
   "pygments_lexer": "ipython3",
   "version": "3.10.12"
  }
 },
 "nbformat": 4,
 "nbformat_minor": 2
}
